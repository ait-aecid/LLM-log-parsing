{
 "cells": [
  {
   "cell_type": "code",
   "execution_count": 1,
   "metadata": {},
   "outputs": [],
   "source": [
    "import pandas as pd\n",
    "import json\n",
    "import numpy as np"
   ]
  },
  {
   "cell_type": "code",
   "execution_count": 2,
   "metadata": {},
   "outputs": [],
   "source": [
    "df = pd.read_excel(\"categories_clean.xlsx\", sheet_name=\"table_final\")"
   ]
  },
  {
   "cell_type": "code",
   "execution_count": 3,
   "metadata": {},
   "outputs": [
    {
     "data": {
      "text/plain": [
       "{'ED', 'FGA', 'FTA', 'GA', 'PA', 'PTA', 'RTA', 'other'}"
      ]
     },
     "metadata": {},
     "output_type": "display_data"
    },
    {
     "data": {
      "text/plain": [
       "0.3275862068965517"
      ]
     },
     "execution_count": 3,
     "metadata": {},
     "output_type": "execute_result"
    }
   ],
   "source": [
    "m_list = [m.replace(\" \", \"\").split(\",\") for m in df[\"Metrics\"].fillna(\"nan\").iloc[2:]]\n",
    "m_sets = [set(m) for m in m_list]\n",
    "m_full_list = sum(m_list, [])\n",
    "m_full_list.remove(\"nan\")\n",
    "m_full_set = set(m_full_list)\n",
    "display(m_full_set)\n",
    "\n",
    "def jaccard_index(set1, set2):\n",
    "    # print(set1, set2)\n",
    "    intersection = len(set1.intersection(set2))\n",
    "    union = len(set1.union(set2))\n",
    "    return intersection / union if union != 0 else 0\n",
    "\n",
    "mean_jaccard = sum([jaccard_index(s, m_full_set) for s in m_sets])/len(m_sets)\n",
    "mean_jaccard"
   ]
  },
  {
   "cell_type": "code",
   "execution_count": 49,
   "metadata": {},
   "outputs": [],
   "source": [
    "# from tabulate import tabulate\n",
    "\n",
    "# model_list = [m.replace(\" \", \"\").split(\",\") for m in df[\"Model\"].fillna(\"nan\").iloc[2:]]\n",
    "# model_sets = [set(m) for m in model_list]\n",
    "# model_full_list = sum(model_list, [])\n",
    "# model_full_list.remove(\"nan\")\n",
    "# model_full_set = set(model_full_list)\n",
    "# # {key: val for key, val in zip(np.unique(m_full_list, return_counts=True))}\n",
    "# counts = np.unique(model_full_list, return_counts=True)\n",
    "# model_count_dict = {key: val for key, val in zip(counts[0].tolist(), counts[1].tolist())}\n",
    "# model_count_dict = dict(sorted(model_count_dict.items(), key=lambda item: item[1], reverse=True))\n",
    "# # Convert the model_count_dict to a LaTeX table\n",
    "# latex_table = tabulate(\n",
    "#     [[key, val] for key, val in model_count_dict.items()],\n",
    "#     headers=[\"Model\", \"Count\"],\n",
    "#     tablefmt=\"latex\"\n",
    "# )\n",
    "# print(latex_table)"
   ]
  },
  {
   "cell_type": "code",
   "execution_count": 86,
   "metadata": {},
   "outputs": [
    {
     "name": "stderr",
     "output_type": "stream",
     "text": [
      "<>:1: SyntaxWarning: invalid escape sequence '\\c'\n",
      "<>:2: SyntaxWarning: invalid escape sequence '\\c'\n",
      "<>:1: SyntaxWarning: invalid escape sequence '\\c'\n",
      "<>:2: SyntaxWarning: invalid escape sequence '\\c'\n",
      "/tmp/ipykernel_119099/499597731.py:1: SyntaxWarning: invalid escape sequence '\\c'\n",
      "  df[\"Model\"] = df[\"Model\"].apply(lambda x: \"\\centering \" + str(x))\n",
      "/tmp/ipykernel_119099/499597731.py:2: SyntaxWarning: invalid escape sequence '\\c'\n",
      "  df[\"Metrics\"] = df[\"Metrics\"].apply(lambda x: \"\\centering \" + str(x))\n"
     ]
    }
   ],
   "source": [
    "df[\"Model\"] = df[\"Model\"].apply(lambda x: \"\\centering \" + str(x))\n",
    "df[\"Metrics\"] = df[\"Metrics\"].apply(lambda x: \"\\centering \" + str(x))\n",
    "df = df.drop(columns=[\"Unnamed: 0\"])\n",
    "df = df.fillna(\"\")\n",
    "df.loc[0] = df.loc[0].apply(lambda x: r\"\\textbf{\" + str(x) + \"}\")\n",
    "df.loc[1] = df.loc[1].apply(lambda x: r\"\\textbf{\" + str(x) + \"}\")"
   ]
  },
  {
   "cell_type": "code",
   "execution_count": 87,
   "metadata": {},
   "outputs": [
    {
     "name": "stdout",
     "output_type": "stream",
     "text": [
      "Index(['Unnamed: 1', 'Supervision', 'Parsing mode', 'Learning',\n",
      "       'Manual configuration', 'RAG', 'Caching', 'LLM usage',\n",
      "       'Template correction', 'Dataset', 'Metrics', 'Model',\n",
      "       'Code availability', 'Preprint'],\n",
      "      dtype='object')\n"
     ]
    },
    {
     "data": {
      "text/html": [
       "<div>\n",
       "<style scoped>\n",
       "    .dataframe tbody tr th:only-of-type {\n",
       "        vertical-align: middle;\n",
       "    }\n",
       "\n",
       "    .dataframe tbody tr th {\n",
       "        vertical-align: top;\n",
       "    }\n",
       "\n",
       "    .dataframe thead th {\n",
       "        text-align: right;\n",
       "    }\n",
       "</style>\n",
       "<table border=\"1\" class=\"dataframe\">\n",
       "  <thead>\n",
       "    <tr style=\"text-align: right;\">\n",
       "      <th></th>\n",
       "      <th>Unnamed: 1</th>\n",
       "      <th>Supervision</th>\n",
       "      <th>Parsing mode</th>\n",
       "      <th>Learning</th>\n",
       "      <th>Manual configuration</th>\n",
       "      <th>RAG</th>\n",
       "      <th>Caching</th>\n",
       "      <th>LLM usage</th>\n",
       "      <th>Template correction</th>\n",
       "      <th>Dataset</th>\n",
       "      <th>Metrics</th>\n",
       "      <th>Model</th>\n",
       "      <th>Code availability</th>\n",
       "      <th>Preprint</th>\n",
       "    </tr>\n",
       "  </thead>\n",
       "  <tbody>\n",
       "    <tr>\n",
       "      <th>0</th>\n",
       "      <td>\\textbf{}</td>\n",
       "      <td>\\textbf{General properties}</td>\n",
       "      <td>\\textbf{}</td>\n",
       "      <td>\\textbf{}</td>\n",
       "      <td>\\textbf{Processing steps}</td>\n",
       "      <td>\\textbf{}</td>\n",
       "      <td>\\textbf{}</td>\n",
       "      <td>\\textbf{}</td>\n",
       "      <td>\\textbf{}</td>\n",
       "      <td>\\textbf{Reproducibility}</td>\n",
       "      <td>\\textbf{\\centering nan}</td>\n",
       "      <td>\\textbf{\\centering nan}</td>\n",
       "      <td>\\textbf{}</td>\n",
       "      <td>\\textbf{}</td>\n",
       "    </tr>\n",
       "    <tr>\n",
       "      <th>1</th>\n",
       "      <td>\\textbf{Approach}</td>\n",
       "      <td>\\textbf{GP-1}</td>\n",
       "      <td>\\textbf{GP-2}</td>\n",
       "      <td>\\textbf{GP-3}</td>\n",
       "      <td>\\textbf{PS-1}</td>\n",
       "      <td>\\textbf{PS-2}</td>\n",
       "      <td>\\textbf{PS-3}</td>\n",
       "      <td>\\textbf{PS-4}</td>\n",
       "      <td>\\textbf{PS-5}</td>\n",
       "      <td>\\textbf{REP-1}</td>\n",
       "      <td>\\textbf{\\centering REP-2}</td>\n",
       "      <td>\\textbf{\\centering REP-3}</td>\n",
       "      <td>\\textbf{REP-4}</td>\n",
       "      <td>\\textbf{REP-5}</td>\n",
       "    </tr>\n",
       "    <tr>\n",
       "      <th>2</th>\n",
       "      <td>Le et al. \\cite{le_log_2023}</td>\n",
       "      <td>un</td>\n",
       "      <td>S</td>\n",
       "      <td>ZS, FS</td>\n",
       "      <td></td>\n",
       "      <td>R</td>\n",
       "      <td></td>\n",
       "      <td>dir</td>\n",
       "      <td></td>\n",
       "      <td>CL-2k</td>\n",
       "      <td>\\centering GA, PA, ED</td>\n",
       "      <td>\\centering GPT</td>\n",
       "      <td></td>\n",
       "      <td></td>\n",
       "    </tr>\n",
       "    <tr>\n",
       "      <th>3</th>\n",
       "      <td>Ma et al. \\cite{ma_llmparser_2024} (LLMParser)</td>\n",
       "      <td>sup</td>\n",
       "      <td>S</td>\n",
       "      <td>FT; ZS, FS</td>\n",
       "      <td>\\cmark</td>\n",
       "      <td>?</td>\n",
       "      <td></td>\n",
       "      <td>dir</td>\n",
       "      <td></td>\n",
       "      <td>CL-2k</td>\n",
       "      <td>\\centering GA, PA</td>\n",
       "      <td>\\centering T5, Llama, ChatGLM</td>\n",
       "      <td>\\cmark</td>\n",
       "      <td></td>\n",
       "    </tr>\n",
       "    <tr>\n",
       "      <th>4</th>\n",
       "      <td>Liu et al. \\cite{liu_interpretable_2024} (LogP...</td>\n",
       "      <td>un</td>\n",
       "      <td>B</td>\n",
       "      <td>ZS</td>\n",
       "      <td></td>\n",
       "      <td></td>\n",
       "      <td></td>\n",
       "      <td>dir</td>\n",
       "      <td></td>\n",
       "      <td>L-2k</td>\n",
       "      <td>\\centering other</td>\n",
       "      <td>\\centering GPT, Vicuna</td>\n",
       "      <td>\\cmark</td>\n",
       "      <td></td>\n",
       "    </tr>\n",
       "  </tbody>\n",
       "</table>\n",
       "</div>"
      ],
      "text/plain": [
       "                                          Unnamed: 1  \\\n",
       "0                                          \\textbf{}   \n",
       "1                                  \\textbf{Approach}   \n",
       "2                       Le et al. \\cite{le_log_2023}   \n",
       "3     Ma et al. \\cite{ma_llmparser_2024} (LLMParser)   \n",
       "4  Liu et al. \\cite{liu_interpretable_2024} (LogP...   \n",
       "\n",
       "                   Supervision   Parsing mode       Learning  \\\n",
       "0  \\textbf{General properties}      \\textbf{}      \\textbf{}   \n",
       "1                \\textbf{GP-1}  \\textbf{GP-2}  \\textbf{GP-3}   \n",
       "2                           un              S         ZS, FS   \n",
       "3                          sup              S     FT; ZS, FS   \n",
       "4                           un              B             ZS   \n",
       "\n",
       "        Manual configuration            RAG        Caching      LLM usage  \\\n",
       "0  \\textbf{Processing steps}      \\textbf{}      \\textbf{}      \\textbf{}   \n",
       "1              \\textbf{PS-1}  \\textbf{PS-2}  \\textbf{PS-3}  \\textbf{PS-4}   \n",
       "2                                         R                           dir   \n",
       "3                     \\cmark              ?                           dir   \n",
       "4                                                                     dir   \n",
       "\n",
       "  Template correction                   Dataset                    Metrics  \\\n",
       "0           \\textbf{}  \\textbf{Reproducibility}    \\textbf{\\centering nan}   \n",
       "1       \\textbf{PS-5}            \\textbf{REP-1}  \\textbf{\\centering REP-2}   \n",
       "2                                         CL-2k      \\centering GA, PA, ED   \n",
       "3                                         CL-2k          \\centering GA, PA   \n",
       "4                                          L-2k           \\centering other   \n",
       "\n",
       "                           Model Code availability        Preprint  \n",
       "0        \\textbf{\\centering nan}         \\textbf{}       \\textbf{}  \n",
       "1      \\textbf{\\centering REP-3}    \\textbf{REP-4}  \\textbf{REP-5}  \n",
       "2                 \\centering GPT                                    \n",
       "3  \\centering T5, Llama, ChatGLM            \\cmark                  \n",
       "4         \\centering GPT, Vicuna            \\cmark                  "
      ]
     },
     "execution_count": 87,
     "metadata": {},
     "output_type": "execute_result"
    }
   ],
   "source": [
    "boolean_features = [\"Manual configuration\",\t\"RAG\", \"Caching\",\"Template correction\",\"Code availability\",\t\"Preprint\"]\n",
    "\n",
    "def replace_bool(x):\n",
    "    if x == \"T\":\n",
    "        return r\"\\cmark\"\n",
    "    if x == \"F\":\n",
    "        return \"\"\n",
    "    return x\n",
    "print(df.columns)\n",
    "for c in boolean_features:\n",
    "    df[c] = df[c].apply(replace_bool)\n",
    "df.head()"
   ]
  },
  {
   "cell_type": "code",
   "execution_count": 88,
   "metadata": {},
   "outputs": [],
   "source": [
    "\n",
    "df = df.rename(columns={c: r\"\\begin{turn}{90}{\\textbf{\" + str(c) + r\"}}\\end{turn}\" for c in df.columns})"
   ]
  },
  {
   "cell_type": "code",
   "execution_count": 89,
   "metadata": {},
   "outputs": [
    {
     "name": "stdout",
     "output_type": "stream",
     "text": [
      "\\begin{tabular}{|c|c|c|c|c|c|c|c|c|c|p{2.0cm}|p{2.8cm}|c|c|}\n",
      "\\toprule\n",
      "\\begin{turn}{90}{\\textbf{Unnamed: 1}}\\end{turn} & \\begin{turn}{90}{\\textbf{Supervision}}\\end{turn} & \\begin{turn}{90}{\\textbf{Parsing mode}}\\end{turn} & \\begin{turn}{90}{\\textbf{Learning}}\\end{turn} & \\begin{turn}{90}{\\textbf{Manual configuration}}\\end{turn} & \\begin{turn}{90}{\\textbf{RAG}}\\end{turn} & \\begin{turn}{90}{\\textbf{Caching}}\\end{turn} & \\begin{turn}{90}{\\textbf{LLM usage}}\\end{turn} & \\begin{turn}{90}{\\textbf{Template correction}}\\end{turn} & \\begin{turn}{90}{\\textbf{Dataset}}\\end{turn} & \\begin{turn}{90}{\\textbf{Metrics}}\\end{turn} & \\begin{turn}{90}{\\textbf{Model}}\\end{turn} & \\begin{turn}{90}{\\textbf{Code availability}}\\end{turn} & \\begin{turn}{90}{\\textbf{Preprint}}\\end{turn} \\\\ \\hline\n",
      "\\midrule\n",
      "\\textbf{} & \\textbf{General properties} & \\textbf{} & \\textbf{} & \\textbf{Processing steps} & \\textbf{} & \\textbf{} & \\textbf{} & \\textbf{} & \\textbf{Reproducibility} & \\textbf{\\centering nan} & \\textbf{\\centering nan} & \\textbf{} & \\textbf{} \\\\ \\hline\n",
      "\\textbf{Approach} & \\textbf{GP-1} & \\textbf{GP-2} & \\textbf{GP-3} & \\textbf{PS-1} & \\textbf{PS-2} & \\textbf{PS-3} & \\textbf{PS-4} & \\textbf{PS-5} & \\textbf{REP-1} & \\textbf{\\centering REP-2} & \\textbf{\\centering REP-3} & \\textbf{REP-4} & \\textbf{REP-5} \\\\ \\hline\n",
      "Le et al. \\cite{le_log_2023} & un & S & ZS, FS &  & R &  & dir &  & CL-2k & \\centering GA, PA, ED & \\centering GPT &  &  \\\\ \\hline\n",
      "Ma et al. \\cite{ma_llmparser_2024} (LLMParser) & sup & S & FT; ZS, FS & \\cmark & ? &  & dir &  & CL-2k & \\centering GA, PA & \\centering T5, Llama, ChatGLM & \\cmark &  \\\\ \\hline\n",
      "Liu et al. \\cite{liu_interpretable_2024} (LogPrompt) & un & B & ZS &  &  &  & dir &  & L-2k & \\centering other & \\centering GPT, Vicuna & \\cmark &  \\\\ \\hline\n",
      "Xu et al. \\cite{xu_divlog_2024} (DivLog) & sup & S & FS & \\cmark & S &  & dir &  & L & \\centering PA, PTA, RTA & \\centering GPT-3 & \\cmark &  \\\\ \\hline\n",
      "Jiang et al. \\cite{jiang_lilac_2024} (LILAC) & sup & S & FS & \\cmark & S & \\cmark & dir & \\cmark & L2 & \\centering GA, FGA, PA, FTA & \\centering GPT, GPT-3 & \\cmark &  \\\\ \\hline\n",
      "Huang et al. \\cite{huang_lunar_2024} (LUNAR) & un & B & ZS &  & S & \\cmark & dir & \\cmark & L2 & \\centering GA, FGA, PA, FTA & \\centering GPT & ? & \\cmark \\\\ \\hline\n",
      "Zhang et al. \\cite{zhang_lemur_2025} (Lemur) & un & T & FS, CoT & \\cmark &  & \\cmark & post & \\cmark & L-2k & \\centering GA, FGA & \\centering ? & \\cmark & \\cmark \\\\ \\hline\n",
      "Sun et al. \\cite{sun_design_2023} (Loki) & un & S & ZS & \\cmark &  & \\cmark & dir &  &  & \\centering nan & \\centering nan &  &  \\\\ \\hline\n",
      "Zhang et al. \\cite{zhang_eclipse_2024} (ECLIPSE) & un & S & ZS & \\cmark & S & \\cmark & pre & \\cmark & L-2k, CU & \\centering GA, FGA & \\centering GPT &  & \\cmark \\\\ \\hline\n",
      "Sun et al. \\cite{sun_advancing_2024} (SemiSMAC-<T>) & sup & S & FS, CoT &  & ? & \\cmark & dir & \\cmark & L & \\centering GA, PA & \\centering GPT & ? & \\cmark \\\\ \\hline\n",
      "Astekin et al. \\cite{astekin_exploratory_2024} & un, sup & S & S &  & ? &  & dir &  & CL & \\centering other & \\centering GPT, Claude, Llama, Mistral &  &  \\\\ \\hline\n",
      "Cui et al. \\cite{cui_logeval_2024} (LogEval) & un & S & ZS &  & ? &  & dir &  & L & \\centering PA, ED & \\centering GPT, Claude, Llama, Gemini, Mistral, InternLM, DevOps-Model, AquilaChat ChatGLM, Qwen, Baichuan & \\cmark & \\cmark \\\\ \\hline\n",
      "Zhong et al. \\cite{zhong_logparser-llm_2024} (LogParser-LLM) & un, sup & S & FT; ZS, FS & \\cmark & S & \\cmark & dir, post & \\cmark & L-2k, L2 & \\centering GA, PA, FGA, FTA, other & \\centering GPT, Llama &  &  \\\\ \\hline\n",
      "Sun et al. \\cite{sun_semirald_2024} (Semirald) & un, sup & S & FS, CoT & \\cmark & ? &  & dir &  & L & \\centering PA & \\centering GPT & \\cmark & \\cmark \\\\ \\hline\n",
      "Astekin et al. \\cite{astekin_comparative_2024} & un, sup & S & ZS, FS/S? &  & ? &  & dir &  & CL & \\centering GA, ED, other & \\centering GPT, Claude, Llama &  &  \\\\ \\hline\n",
      "Ji et al. \\cite{ji_adapting_2024} (SuperLog) & sup & ? & CPT, ZS? &  &  &  & dir &  & L-2k & \\centering GA, other & \\centering Llama & \\cmark & \\cmark \\\\ \\hline\n",
      "Xiao et al. \\cite{xiao_demonstration-free_2024} (LogBatcher) & un & B & ZS & \\cmark & S & \\cmark & dir & \\cmark & L2, CL-2k & \\centering GA, PA, ED  & \\centering GPT & \\cmark &  \\\\ \\hline\n",
      "Xu et al. \\cite{xu_help_2024} (HELP) & un, sup & B & ZS, S; CoT & \\cmark &  & \\cmark & dir & \\cmark & L2 & \\centering GA, FGA, PA, FTA & \\centering Claude &  & \\cmark \\\\ \\hline\n",
      "Pang et al. \\cite{pang_large_2024} (ONLA-LLM) & un, sup & S & FT; ZS &  &  &  & dir &  & CU & \\centering other & \\centering Llama &  &  \\\\ \\hline\n",
      "Ma et al. \\cite{ma_librelog_2024} (OpenLogParser) & un & B & FS & \\cmark & S & \\cmark & dir & \\cmark & L2 & \\centering GA, PA & \\centering Llama, Mistral, Gemma, ChatGLM, T5 & \\cmark & \\cmark \\\\ \\hline\n",
      "Zhou et al. \\cite{zhou_leveraging_2024} & un & S & ZS, FS/S? &  & ? &  & dir &  & L & \\centering GA, PA, ED & \\centering GPT &  &  \\\\ \\hline\n",
      "Zhi et al. \\cite{zhi_llm-powered_2024} (YALP) & un & S & ZS & \\cmark &  & \\cmark & dir & \\cmark & CL-2k & \\centering GA, PA, ED & \\centering GPT &  &  \\\\ \\hline\n",
      "Fariha et al. \\cite{fariha_log_2024}  & un & ? & FS? &  &  &  & pre &  & L & \\centering other & \\centering GPT &  &  \\\\ \\hline\n",
      "Wu et al. \\cite{wu_log_2024} (AdaParser) & un & S & FS; CoT &  & S & \\cmark & dir, post & \\cmark & L-2k, L2 & \\centering GA, FGA, PA, FTA & \\centering GPT, Gemini, Claude, DeepSeek, Qwen &  & \\cmark \\\\ \\hline\n",
      "Karanjai et al. \\cite{karanjai_logbabylon_2024} (LogBabylon) & un, sup & S & FT?; FS &  & S & \\cmark & dir & \\cmark & L2 & \\centering GA, FGA, PA, PTA, RTA, FTA  & \\centering GPT &  & \\cmark \\\\ \\hline\n",
      "Yu et al. \\cite{yu_loggenius_2024} (LogGenius) & un & T? & ZS & \\cmark &  &  & pre &  & L, CA & \\centering PA & \\centering GPT, Gemma & \\cmark &  \\\\ \\hline\n",
      "Pei et al. \\cite{pei_self-evolutionary_2024} (SelfLog) & un, sup & B & FS & \\cmark & S & \\cmark & dir & \\cmark & L-2k & \\centering GA, PA, PTA, RTA & \\centering GPT & \\cmark &  \\\\ \\hline\n",
      "Mehrabi et al. \\cite{mehrabi_effectiveness_nodate} & sup & S & FT; ZS, S &  &  &  & dir &  & CA & \\centering PA, ED, FGA & \\centering Mistral, GPT & \\cmark &  \\\\ \\hline\n",
      "Vaarandi et al. \\cite{vaarandi_using_2024} (LLM-TD) & un & B & S &  &  & \\cmark & dir & \\cmark & CA & \\centering other & \\centering OpenChat, Mistral, WizardLM & \\cmark & \\cmark \\\\ \\hline\n",
      "\\bottomrule\n",
      "\\end{tabular}\n",
      "\n"
     ]
    },
    {
     "name": "stderr",
     "output_type": "stream",
     "text": [
      "<>:1: SyntaxWarning: invalid escape sequence '\\h'\n",
      "<>:1: SyntaxWarning: invalid escape sequence '\\h'\n",
      "/tmp/ipykernel_119099/1858694682.py:1: SyntaxWarning: invalid escape sequence '\\h'\n",
      "  print(df.to_latex(index=False, column_format=(\"|c|c|c|c|c|c|c|c|c|c|p{2.0cm}|p{2.8cm}|c|c|\")).replace(\"\\\\\\n\", \"\\\\ \\hline\\n\"))\n"
     ]
    }
   ],
   "source": [
    "print(df.to_latex(index=False, column_format=(\"|c|c|c|c|c|c|c|c|c|c|p{2.0cm}|p{2.8cm}|c|c|\")).replace(\"\\\\\\n\", \"\\\\ \\hline\\n\"))"
   ]
  },
  {
   "cell_type": "code",
   "execution_count": 90,
   "metadata": {},
   "outputs": [
    {
     "name": "stdout",
     "output_type": "stream",
     "text": [
      "\\begin{tabular}{|c|c|c|c|c|c|c|c|c|c|p{2.0cm}|p{2.8cm}|c|c|}\n",
      "\\toprule\n",
      "\\begin{turn}{90}{\\textbf{Unnamed: 1}}\\end{turn} & \\begin{turn}{90}{\\textbf{Supervision}}\\end{turn} & \\begin{turn}{90}{\\textbf{Parsing mode}}\\end{turn} & \\begin{turn}{90}{\\textbf{Learning}}\\end{turn} & \\begin{turn}{90}{\\textbf{Manual configuration}}\\end{turn} & \\begin{turn}{90}{\\textbf{RAG}}\\end{turn} & \\begin{turn}{90}{\\textbf{Caching}}\\end{turn} & \\begin{turn}{90}{\\textbf{LLM usage}}\\end{turn} & \\begin{turn}{90}{\\textbf{Template correction}}\\end{turn} & \\begin{turn}{90}{\\textbf{Dataset}}\\end{turn} & \\begin{turn}{90}{\\textbf{Metrics}}\\end{turn} & \\begin{turn}{90}{\\textbf{Model}}\\end{turn} & \\begin{turn}{90}{\\textbf{Code availability}}\\end{turn} & \\begin{turn}{90}{\\textbf{Preprint}}\\end{turn} \\\\ \\hline\n",
      "\\midrule\n",
      "\\textbf{} & \\textbf{General properties} & \\textbf{} & \\textbf{} & \\textbf{Processing steps} & \\textbf{} & \\textbf{} & \\textbf{} & \\textbf{} & \\textbf{Reproducibility} & \\textbf{\\centering nan} & \\textbf{\\centering nan} & \\textbf{} & \\textbf{} \\\\ \\hline\n",
      "\\textbf{Approach} & \\textbf{GP-1} & \\textbf{GP-2} & \\textbf{GP-3} & \\textbf{PS-1} & \\textbf{PS-2} & \\textbf{PS-3} & \\textbf{PS-4} & \\textbf{PS-5} & \\textbf{REP-1} & \\textbf{\\centering REP-2} & \\textbf{\\centering REP-3} & \\textbf{REP-4} & \\textbf{REP-5} \\\\ \\hline\n",
      "Le et al. \\cite{le_log_2023} & un & S & ZS, FS &  & R &  & dir &  & CL-2k & \\centering GA, PA, ED & \\centering GPT &  &  \\\\ \\hline\n",
      "Ma et al. \\cite{ma_llmparser_2024} (LLMParser) & sup & S & FT; ZS, FS & \\cmark & ? &  & dir &  & CL-2k & \\centering GA, PA & \\centering T5, Llama, ChatGLM & \\cmark &  \\\\ \\hline\n",
      "Liu et al. \\cite{liu_interpretable_2024} (LogPrompt) & un & B & ZS &  &  &  & dir &  & L-2k & \\centering other & \\centering GPT, Vicuna & \\cmark &  \\\\ \\hline\n",
      "Xu et al. \\cite{xu_divlog_2024} (DivLog) & sup & S & FS & \\cmark & S &  & dir &  & L & \\centering PA, PTA, RTA & \\centering GPT-3 & \\cmark &  \\\\ \\hline\n",
      "Jiang et al. \\cite{jiang_lilac_2024} (LILAC) & sup & S & FS & \\cmark & S & \\cmark & dir & \\cmark & L2 & \\centering GA, FGA, PA, FTA & \\centering GPT, GPT-3 & \\cmark &  \\\\ \\hline\n",
      "Huang et al. \\cite{huang_lunar_2024} (LUNAR) & un & B & ZS &  & S & \\cmark & dir & \\cmark & L2 & \\centering GA, FGA, PA, FTA & \\centering GPT & ? & \\cmark \\\\ \\hline\n",
      "Zhang et al. \\cite{zhang_lemur_2025} (Lemur) & un & T & FS, CoT & \\cmark &  & \\cmark & post & \\cmark & L-2k & \\centering GA, FGA & \\centering ? & \\cmark & \\cmark \\\\ \\hline\n",
      "Sun et al. \\cite{sun_design_2023} (Loki) & un & S & ZS & \\cmark &  & \\cmark & dir &  &  & \\centering nan & \\centering nan &  &  \\\\ \\hline\n",
      "Zhang et al. \\cite{zhang_eclipse_2024} (ECLIPSE) & un & S & ZS & \\cmark & S & \\cmark & pre & \\cmark & L-2k, CU & \\centering GA, FGA & \\centering GPT &  & \\cmark \\\\ \\hline\n",
      "Sun et al. \\cite{sun_advancing_2024} (SemiSMAC-<T>) & sup & S & FS, CoT &  & ? & \\cmark & dir & \\cmark & L & \\centering GA, PA & \\centering GPT & ? & \\cmark \\\\ \\hline\n",
      "Astekin et al. \\cite{astekin_exploratory_2024} & un, sup & S & S &  & ? &  & dir &  & CL & \\centering other & \\centering GPT, Claude, Llama, Mistral &  &  \\\\ \\hline\n",
      "Cui et al. \\cite{cui_logeval_2024} (LogEval) & un & S & ZS &  & ? &  & dir &  & L & \\centering PA, ED & \\centering GPT, Claude, Llama, Gemini, Mistral, InternLM, DevOps-Model, AquilaChat ChatGLM, Qwen, Baichuan & \\cmark & \\cmark \\\\ \\hline\n",
      "Zhong et al. \\cite{zhong_logparser-llm_2024} (LogParser-LLM) & un, sup & S & FT; ZS, FS & \\cmark & S & \\cmark & dir, post & \\cmark & L-2k, L2 & \\centering GA, PA, FGA, FTA, other & \\centering GPT, Llama &  &  \\\\ \\hline\n",
      "Sun et al. \\cite{sun_semirald_2024} (Semirald) & un, sup & S & FS, CoT & \\cmark & ? &  & dir &  & L & \\centering PA & \\centering GPT & \\cmark & \\cmark \\\\ \\hline\n",
      "Astekin et al. \\cite{astekin_comparative_2024} & un, sup & S & ZS, FS/S? &  & ? &  & dir &  & CL & \\centering GA, ED, other & \\centering GPT, Claude, Llama &  &  \\\\ \\hline\n",
      "Ji et al. \\cite{ji_adapting_2024} (SuperLog) & sup & ? & CPT, ZS? &  &  &  & dir &  & L-2k & \\centering GA, other & \\centering Llama & \\cmark & \\cmark \\\\ \\hline\n",
      "Xiao et al. \\cite{xiao_demonstration-free_2024} (LogBatcher) & un & B & ZS & \\cmark & S & \\cmark & dir & \\cmark & L2, CL-2k & \\centering GA, PA, ED  & \\centering GPT & \\cmark &  \\\\ \\hline\n",
      "Xu et al. \\cite{xu_help_2024} (HELP) & un, sup & B & ZS, S; CoT & \\cmark &  & \\cmark & dir & \\cmark & L2 & \\centering GA, FGA, PA, FTA & \\centering Claude &  & \\cmark \\\\ \\hline\n",
      "Pang et al. \\cite{pang_large_2024} (ONLA-LLM) & un, sup & S & FT; ZS &  &  &  & dir &  & CU & \\centering other & \\centering Llama &  &  \\\\ \\hline\n",
      "Ma et al. \\cite{ma_librelog_2024} (OpenLogParser) & un & B & FS & \\cmark & S & \\cmark & dir & \\cmark & L2 & \\centering GA, PA & \\centering Llama, Mistral, Gemma, ChatGLM, T5 & \\cmark & \\cmark \\\\ \\hline\n",
      "Zhou et al. \\cite{zhou_leveraging_2024} & un & S & ZS, FS/S? &  & ? &  & dir &  & L & \\centering GA, PA, ED & \\centering GPT &  &  \\\\ \\hline\n",
      "Zhi et al. \\cite{zhi_llm-powered_2024} (YALP) & un & S & ZS & \\cmark &  & \\cmark & dir & \\cmark & CL-2k & \\centering GA, PA, ED & \\centering GPT &  &  \\\\ \\hline\n",
      "Fariha et al. \\cite{fariha_log_2024}  & un & ? & FS? &  &  &  & pre &  & L & \\centering other & \\centering GPT &  &  \\\\ \\hline\n",
      "Wu et al. \\cite{wu_log_2024} (AdaParser) & un & S & FS; CoT &  & S & \\cmark & dir, post & \\cmark & L-2k, L2 & \\centering GA, FGA, PA, FTA & \\centering GPT, Gemini, Claude, DeepSeek, Qwen &  & \\cmark \\\\ \\hline\n",
      "Karanjai et al. \\cite{karanjai_logbabylon_2024} (LogBabylon) & un, sup & S & FT?; FS &  & S & \\cmark & dir & \\cmark & L2 & \\centering GA, FGA, PA, PTA, RTA, FTA  & \\centering GPT &  & \\cmark \\\\ \\hline\n",
      "Yu et al. \\cite{yu_loggenius_2024} (LogGenius) & un & T? & ZS & \\cmark &  &  & pre &  & L, CA & \\centering PA & \\centering GPT, Gemma & \\cmark &  \\\\ \\hline\n",
      "Pei et al. \\cite{pei_self-evolutionary_2024} (SelfLog) & un, sup & B & FS & \\cmark & S & \\cmark & dir & \\cmark & L-2k & \\centering GA, PA, PTA, RTA & \\centering GPT & \\cmark &  \\\\ \\hline\n",
      "Mehrabi et al. \\cite{mehrabi_effectiveness_nodate} & sup & S & FT; ZS, S &  &  &  & dir &  & CA & \\centering PA, ED, FGA & \\centering Mistral, GPT & \\cmark &  \\\\ \\hline\n",
      "Vaarandi et al. \\cite{vaarandi_using_2024} (LLM-TD) & un & B & S &  &  & \\cmark & dir & \\cmark & CA & \\centering other & \\centering OpenChat, Mistral, WizardLM & \\cmark & \\cmark \\\\ \\hline\n",
      "\\bottomrule\n",
      "\\end{tabular}\n",
      "\n"
     ]
    },
    {
     "name": "stderr",
     "output_type": "stream",
     "text": [
      "<>:1: SyntaxWarning: invalid escape sequence '\\h'\n",
      "<>:1: SyntaxWarning: invalid escape sequence '\\h'\n",
      "/tmp/ipykernel_119099/1858694682.py:1: SyntaxWarning: invalid escape sequence '\\h'\n",
      "  print(df.to_latex(index=False, column_format=(\"|c|c|c|c|c|c|c|c|c|c|p{2.0cm}|p{2.8cm}|c|c|\")).replace(\"\\\\\\n\", \"\\\\ \\hline\\n\"))\n"
     ]
    }
   ],
   "source": [
    "print(df.to_latex(index=False, column_format=(\"|c|c|c|c|c|c|c|c|c|c|p{2.0cm}|p{2.8cm}|c|c|\")).replace(\"\\\\\\n\", \"\\\\ \\hline\\n\"))"
   ]
  }
 ],
 "metadata": {
  "kernelspec": {
   "display_name": ".venv",
   "language": "python",
   "name": "python3"
  },
  "language_info": {
   "codemirror_mode": {
    "name": "ipython",
    "version": 3
   },
   "file_extension": ".py",
   "mimetype": "text/x-python",
   "name": "python",
   "nbconvert_exporter": "python",
   "pygments_lexer": "ipython3",
   "version": "3.12.3"
  }
 },
 "nbformat": 4,
 "nbformat_minor": 2
}
